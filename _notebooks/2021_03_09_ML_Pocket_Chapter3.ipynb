{
  "nbformat": 4,
  "nbformat_minor": 0,
  "metadata": {
    "colab": {
      "name": "2021-03-09-ML_Pocket_Chapter3.ipynb",
      "provenance": [],
      "collapsed_sections": []
    },
    "kernelspec": {
      "name": "python3",
      "display_name": "Python 3"
    }
  },
  "cells": [
    {
      "cell_type": "markdown",
      "metadata": {
        "id": "ENDzTuog8zs-"
      },
      "source": [
        "# 3장 분류 문제 둘러보기(타이타닉 데이터셋)\n",
        "\n",
        "> 타이타닉 데이터셋으로 머신러닝의 전반적인 내용을 살펴봅니다.\n",
        "- author: \"Chansung Park\"\n",
        "- toc: true\n",
        "- comments: true\n",
        "- permalink: /chapter3/\n",
        "- badges: true"
      ]
    },
    {
      "cell_type": "markdown",
      "metadata": {
        "id": "PhaeSebYSu3U"
      },
      "source": [
        "# 3.2 필요한 패키지"
      ]
    },
    {
      "cell_type": "code",
      "metadata": {
        "id": "cG6u2SwBYaHt"
      },
      "source": [
        "#hide\n",
        "\n",
        "import warnings\n",
        "warnings.filterwarnings('ignore')"
      ],
      "execution_count": null,
      "outputs": []
    },
    {
      "cell_type": "code",
      "metadata": {
        "colab": {
          "base_uri": "https://localhost:8080/",
          "height": 752
        },
        "id": "DVfuxJ0HTzEi",
        "outputId": "87b40133-76e4-462b-80d5-f32f4f3afa3c"
      },
      "source": [
        "#hide\n",
        "\n",
        "!pip install pandas==0.23.4\n",
        "!pip install sklearn==0.21.0\n",
        "!pip install yellowbrick==0.9"
      ],
      "execution_count": null,
      "outputs": [
        {
          "output_type": "stream",
          "text": [
            "Requirement already satisfied: pandas==0.23.4 in /usr/local/lib/python3.7/dist-packages (0.23.4)\n",
            "Requirement already satisfied: numpy>=1.9.0 in /usr/local/lib/python3.7/dist-packages (from pandas==0.23.4) (1.19.5)\n",
            "Requirement already satisfied: pytz>=2011k in /usr/local/lib/python3.7/dist-packages (from pandas==0.23.4) (2018.9)\n",
            "Requirement already satisfied: python-dateutil>=2.5.0 in /usr/local/lib/python3.7/dist-packages (from pandas==0.23.4) (2.8.1)\n",
            "Requirement already satisfied: six>=1.5 in /usr/local/lib/python3.7/dist-packages (from python-dateutil>=2.5.0->pandas==0.23.4) (1.15.0)\n",
            "\u001b[31mERROR: Could not find a version that satisfies the requirement sklearn==0.21.0 (from versions: 0.0)\u001b[0m\n",
            "\u001b[31mERROR: No matching distribution found for sklearn==0.21.0\u001b[0m\n",
            "Collecting yellowbrick==0.9\n",
            "\u001b[?25l  Downloading https://files.pythonhosted.org/packages/f0/b3/fffa077157c38e729eb033fdd0ad57fbe92db1aac303c69b283ce10deb9b/yellowbrick-0.9-py2.py3-none-any.whl (281kB)\n",
            "\u001b[K     |████████████████████████████████| 286kB 695kB/s \n",
            "\u001b[?25hRequirement already satisfied: scikit-learn>=0.20 in /usr/local/lib/python3.7/dist-packages (from yellowbrick==0.9) (0.22.2.post1)\n",
            "Collecting matplotlib<3.0,>=1.5.1\n",
            "\u001b[?25l  Downloading https://files.pythonhosted.org/packages/d3/38/64d5579936b9058c39c443f186e3ee20c0a4bb0ccc9d3618a1be93b01d05/matplotlib-2.2.5-cp37-cp37m-manylinux1_x86_64.whl (12.8MB)\n",
            "\u001b[K     |████████████████████████████████| 12.8MB 8.8MB/s \n",
            "\u001b[?25hRequirement already satisfied: cycler>=0.10.0 in /usr/local/lib/python3.7/dist-packages (from yellowbrick==0.9) (0.10.0)\n",
            "Requirement already satisfied: scipy>=1.0.0 in /usr/local/lib/python3.7/dist-packages (from yellowbrick==0.9) (1.4.1)\n",
            "Requirement already satisfied: numpy>=1.13.0 in /usr/local/lib/python3.7/dist-packages (from yellowbrick==0.9) (1.19.5)\n",
            "Requirement already satisfied: joblib>=0.11 in /usr/local/lib/python3.7/dist-packages (from scikit-learn>=0.20->yellowbrick==0.9) (1.0.1)\n",
            "Requirement already satisfied: pytz in /usr/local/lib/python3.7/dist-packages (from matplotlib<3.0,>=1.5.1->yellowbrick==0.9) (2018.9)\n",
            "Requirement already satisfied: pyparsing!=2.0.4,!=2.1.2,!=2.1.6,>=2.0.1 in /usr/local/lib/python3.7/dist-packages (from matplotlib<3.0,>=1.5.1->yellowbrick==0.9) (2.4.7)\n",
            "Requirement already satisfied: kiwisolver>=1.0.1 in /usr/local/lib/python3.7/dist-packages (from matplotlib<3.0,>=1.5.1->yellowbrick==0.9) (1.3.1)\n",
            "Requirement already satisfied: python-dateutil>=2.1 in /usr/local/lib/python3.7/dist-packages (from matplotlib<3.0,>=1.5.1->yellowbrick==0.9) (2.8.1)\n",
            "Requirement already satisfied: six>=1.10 in /usr/local/lib/python3.7/dist-packages (from matplotlib<3.0,>=1.5.1->yellowbrick==0.9) (1.15.0)\n",
            "\u001b[31mERROR: plotnine 0.6.0 has requirement matplotlib>=3.1.1, but you'll have matplotlib 2.2.5 which is incompatible.\u001b[0m\n",
            "\u001b[31mERROR: plotnine 0.6.0 has requirement pandas>=0.25.0, but you'll have pandas 0.23.4 which is incompatible.\u001b[0m\n",
            "\u001b[31mERROR: mizani 0.6.0 has requirement matplotlib>=3.1.1, but you'll have matplotlib 2.2.5 which is incompatible.\u001b[0m\n",
            "\u001b[31mERROR: mizani 0.6.0 has requirement pandas>=0.25.0, but you'll have pandas 0.23.4 which is incompatible.\u001b[0m\n",
            "\u001b[31mERROR: fbprophet 0.7.1 has requirement pandas>=1.0.4, but you'll have pandas 0.23.4 which is incompatible.\u001b[0m\n",
            "\u001b[31mERROR: albumentations 0.1.12 has requirement imgaug<0.2.7,>=0.2.5, but you'll have imgaug 0.2.9 which is incompatible.\u001b[0m\n",
            "Installing collected packages: matplotlib, yellowbrick\n",
            "  Found existing installation: matplotlib 3.2.2\n",
            "    Uninstalling matplotlib-3.2.2:\n",
            "      Successfully uninstalled matplotlib-3.2.2\n",
            "  Found existing installation: yellowbrick 0.9.1\n",
            "    Uninstalling yellowbrick-0.9.1:\n",
            "      Successfully uninstalled yellowbrick-0.9.1\n",
            "Successfully installed matplotlib-2.2.5 yellowbrick-0.9\n"
          ],
          "name": "stdout"
        },
        {
          "output_type": "display_data",
          "data": {
            "application/vnd.colab-display-data+json": {
              "pip_warning": {
                "packages": [
                  "matplotlib",
                  "mpl_toolkits",
                  "yellowbrick"
                ]
              }
            }
          },
          "metadata": {
            "tags": []
          }
        }
      ]
    },
    {
      "cell_type": "code",
      "metadata": {
        "id": "fx7WIbej21lQ"
      },
      "source": [
        "#hide\n",
        "\n",
        "import matplotlib.pyplot as plt\n",
        "import pandas as pd\n",
        "from sklearn import (\n",
        "  ensemble,\n",
        "  preprocessing,\n",
        "  tree\n",
        ")\n",
        "from sklearn.metrics import (\n",
        "  auc,\n",
        "  confusion_matrix,\n",
        "  roc_auc_score,\n",
        "  roc_curve\n",
        ")\n",
        "from sklearn.model_selection import (\n",
        "  train_test_split,\n",
        "  StratifiedKFold\n",
        ")\n",
        "from yellowbrick.classifier import (\n",
        "  ConfusionMatrix,\n",
        "  ROCAUC\n",
        ")\n",
        "from yellowbrick.model_selection import (\n",
        "  LearningCurve\n",
        ")"
      ],
      "execution_count": null,
      "outputs": []
    },
    {
      "cell_type": "markdown",
      "metadata": {
        "id": "3vHKZ83uSy-Q"
      },
      "source": [
        "# 3.5 데이터의 수집"
      ]
    },
    {
      "cell_type": "code",
      "metadata": {
        "id": "F2hI8LNN3Nml"
      },
      "source": [
        "url = \"https://biostat.app.vumc.org/wiki/pub/Main/DataSets/titanic3.xls\"\n",
        "df = pd.read_excel(url)\n",
        "orig_df = df"
      ],
      "execution_count": null,
      "outputs": []
    },
    {
      "cell_type": "code",
      "metadata": {
        "colab": {
          "base_uri": "https://localhost:8080/"
        },
        "id": "Vqrl13EA3ZFf",
        "outputId": "42c04597-cb5e-4db0-ee3c-b152454f4562"
      },
      "source": [
        "df.columns"
      ],
      "execution_count": null,
      "outputs": [
        {
          "output_type": "execute_result",
          "data": {
            "text/plain": [
              "Index(['pclass', 'survived', 'name', 'sex', 'age', 'sibsp', 'parch', 'ticket',\n",
              "       'fare', 'cabin', 'embarked', 'boat', 'body', 'home.dest'],\n",
              "      dtype='object')"
            ]
          },
          "metadata": {
            "tags": []
          },
          "execution_count": 104
        }
      ]
    },
    {
      "cell_type": "markdown",
      "metadata": {
        "id": "dUNul2JTS3Fr"
      },
      "source": [
        "# 3.6 데이터의 정리"
      ]
    },
    {
      "cell_type": "code",
      "metadata": {
        "colab": {
          "base_uri": "https://localhost:8080/"
        },
        "id": "y-BE4G2R318t",
        "outputId": "1b80ff24-50b5-4e0d-b306-5bd2deeb92d0"
      },
      "source": [
        "df.dtypes"
      ],
      "execution_count": null,
      "outputs": [
        {
          "output_type": "execute_result",
          "data": {
            "text/plain": [
              "pclass         int64\n",
              "survived       int64\n",
              "name          object\n",
              "sex           object\n",
              "age          float64\n",
              "sibsp          int64\n",
              "parch          int64\n",
              "ticket        object\n",
              "fare         float64\n",
              "cabin         object\n",
              "embarked      object\n",
              "boat          object\n",
              "body         float64\n",
              "home.dest     object\n",
              "dtype: object"
            ]
          },
          "metadata": {
            "tags": []
          },
          "execution_count": 105
        }
      ]
    },
    {
      "cell_type": "code",
      "metadata": {
        "colab": {
          "base_uri": "https://localhost:8080/"
        },
        "id": "GVF2X5kr35JL",
        "outputId": "4c5933b3-6a67-4ea4-f62b-3d13142730af"
      },
      "source": [
        "df.shape"
      ],
      "execution_count": null,
      "outputs": [
        {
          "output_type": "execute_result",
          "data": {
            "text/plain": [
              "(1309, 14)"
            ]
          },
          "metadata": {
            "tags": []
          },
          "execution_count": 106
        }
      ]
    },
    {
      "cell_type": "code",
      "metadata": {
        "colab": {
          "base_uri": "https://localhost:8080/",
          "height": 297
        },
        "id": "_S2hwZiH4ETL",
        "outputId": "c71931cb-11ae-4b7e-bc64-375286312195"
      },
      "source": [
        "df.describe().iloc[:, :2]"
      ],
      "execution_count": null,
      "outputs": [
        {
          "output_type": "execute_result",
          "data": {
            "text/html": [
              "<div>\n",
              "<style scoped>\n",
              "    .dataframe tbody tr th:only-of-type {\n",
              "        vertical-align: middle;\n",
              "    }\n",
              "\n",
              "    .dataframe tbody tr th {\n",
              "        vertical-align: top;\n",
              "    }\n",
              "\n",
              "    .dataframe thead th {\n",
              "        text-align: right;\n",
              "    }\n",
              "</style>\n",
              "<table border=\"1\" class=\"dataframe\">\n",
              "  <thead>\n",
              "    <tr style=\"text-align: right;\">\n",
              "      <th></th>\n",
              "      <th>pclass</th>\n",
              "      <th>survived</th>\n",
              "    </tr>\n",
              "  </thead>\n",
              "  <tbody>\n",
              "    <tr>\n",
              "      <th>count</th>\n",
              "      <td>1309.000000</td>\n",
              "      <td>1309.000000</td>\n",
              "    </tr>\n",
              "    <tr>\n",
              "      <th>mean</th>\n",
              "      <td>2.294882</td>\n",
              "      <td>0.381971</td>\n",
              "    </tr>\n",
              "    <tr>\n",
              "      <th>std</th>\n",
              "      <td>0.837836</td>\n",
              "      <td>0.486055</td>\n",
              "    </tr>\n",
              "    <tr>\n",
              "      <th>min</th>\n",
              "      <td>1.000000</td>\n",
              "      <td>0.000000</td>\n",
              "    </tr>\n",
              "    <tr>\n",
              "      <th>25%</th>\n",
              "      <td>2.000000</td>\n",
              "      <td>0.000000</td>\n",
              "    </tr>\n",
              "    <tr>\n",
              "      <th>50%</th>\n",
              "      <td>3.000000</td>\n",
              "      <td>0.000000</td>\n",
              "    </tr>\n",
              "    <tr>\n",
              "      <th>75%</th>\n",
              "      <td>3.000000</td>\n",
              "      <td>1.000000</td>\n",
              "    </tr>\n",
              "    <tr>\n",
              "      <th>max</th>\n",
              "      <td>3.000000</td>\n",
              "      <td>1.000000</td>\n",
              "    </tr>\n",
              "  </tbody>\n",
              "</table>\n",
              "</div>"
            ],
            "text/plain": [
              "            pclass     survived\n",
              "count  1309.000000  1309.000000\n",
              "mean      2.294882     0.381971\n",
              "std       0.837836     0.486055\n",
              "min       1.000000     0.000000\n",
              "25%       2.000000     0.000000\n",
              "50%       3.000000     0.000000\n",
              "75%       3.000000     1.000000\n",
              "max       3.000000     1.000000"
            ]
          },
          "metadata": {
            "tags": []
          },
          "execution_count": 107
        }
      ]
    },
    {
      "cell_type": "code",
      "metadata": {
        "colab": {
          "base_uri": "https://localhost:8080/"
        },
        "id": "TLoMRtug4drL",
        "outputId": "1887d653-7d11-4be9-f050-60d9c6b9b310"
      },
      "source": [
        "df.isnull().sum()"
      ],
      "execution_count": null,
      "outputs": [
        {
          "output_type": "execute_result",
          "data": {
            "text/plain": [
              "pclass          0\n",
              "survived        0\n",
              "name            0\n",
              "sex             0\n",
              "age           263\n",
              "sibsp           0\n",
              "parch           0\n",
              "ticket          0\n",
              "fare            1\n",
              "cabin        1014\n",
              "embarked        2\n",
              "boat          823\n",
              "body         1188\n",
              "home.dest     564\n",
              "dtype: int64"
            ]
          },
          "metadata": {
            "tags": []
          },
          "execution_count": 108
        }
      ]
    },
    {
      "cell_type": "code",
      "metadata": {
        "id": "4N08XkyX4g8j"
      },
      "source": [
        "mask = df.isnull().any(axis=1)"
      ],
      "execution_count": null,
      "outputs": []
    },
    {
      "cell_type": "code",
      "metadata": {
        "colab": {
          "base_uri": "https://localhost:8080/"
        },
        "id": "GdN1ihIe4jUd",
        "outputId": "3bf12501-c95b-48df-f8ae-a2bd9e079123"
      },
      "source": [
        "mask.head()"
      ],
      "execution_count": null,
      "outputs": [
        {
          "output_type": "execute_result",
          "data": {
            "text/plain": [
              "0    True\n",
              "1    True\n",
              "2    True\n",
              "3    True\n",
              "4    True\n",
              "dtype: bool"
            ]
          },
          "metadata": {
            "tags": []
          },
          "execution_count": 110
        }
      ]
    },
    {
      "cell_type": "code",
      "metadata": {
        "colab": {
          "base_uri": "https://localhost:8080/"
        },
        "id": "6-NVnO214j6X",
        "outputId": "de082a6d-f756-4ab2-f4d9-d5fd2e5b5a50"
      },
      "source": [
        "df[mask].body.head()"
      ],
      "execution_count": null,
      "outputs": [
        {
          "output_type": "execute_result",
          "data": {
            "text/plain": [
              "0      NaN\n",
              "1      NaN\n",
              "2      NaN\n",
              "3    135.0\n",
              "4      NaN\n",
              "Name: body, dtype: float64"
            ]
          },
          "metadata": {
            "tags": []
          },
          "execution_count": 111
        }
      ]
    },
    {
      "cell_type": "code",
      "metadata": {
        "colab": {
          "base_uri": "https://localhost:8080/"
        },
        "id": "0blrahKw4lB9",
        "outputId": "6cc2a753-7389-4094-c55d-4f053ceb27a7"
      },
      "source": [
        "df.sex.value_counts(dropna=False)"
      ],
      "execution_count": null,
      "outputs": [
        {
          "output_type": "execute_result",
          "data": {
            "text/plain": [
              "male      843\n",
              "female    466\n",
              "Name: sex, dtype: int64"
            ]
          },
          "metadata": {
            "tags": []
          },
          "execution_count": 112
        }
      ]
    },
    {
      "cell_type": "code",
      "metadata": {
        "colab": {
          "base_uri": "https://localhost:8080/"
        },
        "id": "h-s7GCV24mqG",
        "outputId": "c88b0da4-f2c6-4948-ecf9-8fe18a742330"
      },
      "source": [
        " df.embarked.value_counts(dropna=False)"
      ],
      "execution_count": null,
      "outputs": [
        {
          "output_type": "execute_result",
          "data": {
            "text/plain": [
              "S      914\n",
              "C      270\n",
              "Q      123\n",
              "NaN      2\n",
              "Name: embarked, dtype: int64"
            ]
          },
          "metadata": {
            "tags": []
          },
          "execution_count": 113
        }
      ]
    },
    {
      "cell_type": "markdown",
      "metadata": {
        "id": "HUW8aXRlS_y5"
      },
      "source": [
        "# 3.7 특징의 생성"
      ]
    },
    {
      "cell_type": "code",
      "metadata": {
        "colab": {
          "base_uri": "https://localhost:8080/"
        },
        "id": "7h1Ct0k34oNa",
        "outputId": "16a4de54-f893-449c-b423-45a187aabde7"
      },
      "source": [
        "name = df.name\n",
        "name.head(3)"
      ],
      "execution_count": null,
      "outputs": [
        {
          "output_type": "execute_result",
          "data": {
            "text/plain": [
              "0     Allen, Miss. Elisabeth Walton\n",
              "1    Allison, Master. Hudson Trevor\n",
              "2      Allison, Miss. Helen Loraine\n",
              "Name: name, dtype: object"
            ]
          },
          "metadata": {
            "tags": []
          },
          "execution_count": 114
        }
      ]
    },
    {
      "cell_type": "code",
      "metadata": {
        "id": "tGrHKBFP4rc1"
      },
      "source": [
        "df = df.drop(\n",
        "    columns=[\"name\",\n",
        "             \"ticket\",\n",
        "             \"home.dest\",\n",
        "             \"boat\",\n",
        "             \"body\",\n",
        "             \"cabin\"]\n",
        "    )"
      ],
      "execution_count": null,
      "outputs": []
    },
    {
      "cell_type": "code",
      "metadata": {
        "id": "n3iILClL40we"
      },
      "source": [
        "df = pd.get_dummies(df)"
      ],
      "execution_count": null,
      "outputs": []
    },
    {
      "cell_type": "code",
      "metadata": {
        "colab": {
          "base_uri": "https://localhost:8080/"
        },
        "id": "uYnYsdCs42iU",
        "outputId": "035331f0-dcfc-4d90-ed01-b5dff7bfc0a5"
      },
      "source": [
        "df.columns"
      ],
      "execution_count": null,
      "outputs": [
        {
          "output_type": "execute_result",
          "data": {
            "text/plain": [
              "Index(['pclass', 'survived', 'age', 'sibsp', 'parch', 'fare', 'sex_female',\n",
              "       'sex_male', 'embarked_C', 'embarked_Q', 'embarked_S'],\n",
              "      dtype='object')"
            ]
          },
          "metadata": {
            "tags": []
          },
          "execution_count": 117
        }
      ]
    },
    {
      "cell_type": "code",
      "metadata": {
        "id": "zM8UOaLB4466"
      },
      "source": [
        "df = df.drop(columns=\"sex_male\")"
      ],
      "execution_count": null,
      "outputs": []
    },
    {
      "cell_type": "code",
      "metadata": {
        "id": "veOKL-Gb45XV"
      },
      "source": [
        "df = pd.get_dummies(df, drop_first=True)"
      ],
      "execution_count": null,
      "outputs": []
    },
    {
      "cell_type": "code",
      "metadata": {
        "colab": {
          "base_uri": "https://localhost:8080/"
        },
        "id": "eG-x_6FM47at",
        "outputId": "a9132a73-39e6-4d43-949f-2df7613d1d83"
      },
      "source": [
        "df.columns"
      ],
      "execution_count": null,
      "outputs": [
        {
          "output_type": "execute_result",
          "data": {
            "text/plain": [
              "Index(['pclass', 'survived', 'age', 'sibsp', 'parch', 'fare', 'sex_female',\n",
              "       'embarked_C', 'embarked_Q', 'embarked_S'],\n",
              "      dtype='object')"
            ]
          },
          "metadata": {
            "tags": []
          },
          "execution_count": 120
        }
      ]
    },
    {
      "cell_type": "code",
      "metadata": {
        "id": "eoYy_jWS478E"
      },
      "source": [
        "y = df.survived\n",
        "X = df.drop(columns=\"survived\")"
      ],
      "execution_count": null,
      "outputs": []
    },
    {
      "cell_type": "markdown",
      "metadata": {
        "id": "6Ps8RUgETLSt"
      },
      "source": [
        "# 3.8 샘플 데이터"
      ]
    },
    {
      "cell_type": "code",
      "metadata": {
        "id": "CKSxRUi-4-75"
      },
      "source": [
        "X_train, X_test, y_train, y_test = train_test_split(\n",
        "    X, y, test_size=0.3, random_state=42)"
      ],
      "execution_count": null,
      "outputs": []
    },
    {
      "cell_type": "markdown",
      "metadata": {
        "id": "yIlQMENfTO7U"
      },
      "source": [
        "# 3.9 데이터의 대치"
      ]
    },
    {
      "cell_type": "code",
      "metadata": {
        "id": "3pQ56pC75EDR"
      },
      "source": [
        "from sklearn.experimental import (\n",
        "  enable_iterative_imputer,\n",
        ")\n",
        "from sklearn import impute"
      ],
      "execution_count": null,
      "outputs": []
    },
    {
      "cell_type": "code",
      "metadata": {
        "id": "wEMsAgZs5QGW"
      },
      "source": [
        "num_cols = [\n",
        "  \"pclass\",\n",
        "  \"age\",\n",
        "  \"sibsp\",\n",
        "  \"parch\",\n",
        "  \"fare\",\n",
        "  \"sex_female\",\n",
        "]"
      ],
      "execution_count": null,
      "outputs": []
    },
    {
      "cell_type": "code",
      "metadata": {
        "id": "0X4DzxvX5SAc"
      },
      "source": [
        "imputer = impute.IterativeImputer()\n",
        "imputed = imputer.fit_transform(\n",
        "  X_train[num_cols]\n",
        ")\n",
        "X_train.loc[:, num_cols] = imputed\n",
        "imputed = imputer.transform(X_test[num_cols])\n",
        "X_test.loc[:, num_cols] = imputed"
      ],
      "execution_count": null,
      "outputs": []
    },
    {
      "cell_type": "code",
      "metadata": {
        "id": "qxeyI5OE5X31"
      },
      "source": [
        "meds = X_train.median()\n",
        "X_train = X_train.fillna(meds)\n",
        "X_test = X_test.fillna(meds)"
      ],
      "execution_count": null,
      "outputs": []
    },
    {
      "cell_type": "code",
      "metadata": {
        "colab": {
          "base_uri": "https://localhost:8080/",
          "height": 204
        },
        "id": "va-g_XrjTWGY",
        "outputId": "55d4a8c9-b3b4-4cd0-8839-dceb4c4d268c"
      },
      "source": [
        "X_train.head()"
      ],
      "execution_count": null,
      "outputs": [
        {
          "output_type": "execute_result",
          "data": {
            "text/html": [
              "<div>\n",
              "<style scoped>\n",
              "    .dataframe tbody tr th:only-of-type {\n",
              "        vertical-align: middle;\n",
              "    }\n",
              "\n",
              "    .dataframe tbody tr th {\n",
              "        vertical-align: top;\n",
              "    }\n",
              "\n",
              "    .dataframe thead th {\n",
              "        text-align: right;\n",
              "    }\n",
              "</style>\n",
              "<table border=\"1\" class=\"dataframe\">\n",
              "  <thead>\n",
              "    <tr style=\"text-align: right;\">\n",
              "      <th></th>\n",
              "      <th>pclass</th>\n",
              "      <th>age</th>\n",
              "      <th>sibsp</th>\n",
              "      <th>parch</th>\n",
              "      <th>fare</th>\n",
              "      <th>sex_female</th>\n",
              "      <th>embarked_C</th>\n",
              "      <th>embarked_Q</th>\n",
              "      <th>embarked_S</th>\n",
              "    </tr>\n",
              "  </thead>\n",
              "  <tbody>\n",
              "    <tr>\n",
              "      <th>1214</th>\n",
              "      <td>3.0</td>\n",
              "      <td>26.984481</td>\n",
              "      <td>0.0</td>\n",
              "      <td>0.0</td>\n",
              "      <td>8.6625</td>\n",
              "      <td>0.0</td>\n",
              "      <td>0</td>\n",
              "      <td>0</td>\n",
              "      <td>1</td>\n",
              "    </tr>\n",
              "    <tr>\n",
              "      <th>677</th>\n",
              "      <td>3.0</td>\n",
              "      <td>26.000000</td>\n",
              "      <td>0.0</td>\n",
              "      <td>0.0</td>\n",
              "      <td>7.8958</td>\n",
              "      <td>0.0</td>\n",
              "      <td>0</td>\n",
              "      <td>0</td>\n",
              "      <td>1</td>\n",
              "    </tr>\n",
              "    <tr>\n",
              "      <th>534</th>\n",
              "      <td>2.0</td>\n",
              "      <td>19.000000</td>\n",
              "      <td>0.0</td>\n",
              "      <td>0.0</td>\n",
              "      <td>26.0000</td>\n",
              "      <td>1.0</td>\n",
              "      <td>0</td>\n",
              "      <td>0</td>\n",
              "      <td>1</td>\n",
              "    </tr>\n",
              "    <tr>\n",
              "      <th>1174</th>\n",
              "      <td>3.0</td>\n",
              "      <td>0.437798</td>\n",
              "      <td>8.0</td>\n",
              "      <td>2.0</td>\n",
              "      <td>69.5500</td>\n",
              "      <td>1.0</td>\n",
              "      <td>0</td>\n",
              "      <td>0</td>\n",
              "      <td>1</td>\n",
              "    </tr>\n",
              "    <tr>\n",
              "      <th>864</th>\n",
              "      <td>3.0</td>\n",
              "      <td>28.000000</td>\n",
              "      <td>0.0</td>\n",
              "      <td>0.0</td>\n",
              "      <td>7.7750</td>\n",
              "      <td>1.0</td>\n",
              "      <td>0</td>\n",
              "      <td>0</td>\n",
              "      <td>1</td>\n",
              "    </tr>\n",
              "  </tbody>\n",
              "</table>\n",
              "</div>"
            ],
            "text/plain": [
              "      pclass        age  sibsp     ...      embarked_C  embarked_Q  embarked_S\n",
              "1214     3.0  26.984481    0.0     ...               0           0           1\n",
              "677      3.0  26.000000    0.0     ...               0           0           1\n",
              "534      2.0  19.000000    0.0     ...               0           0           1\n",
              "1174     3.0   0.437798    8.0     ...               0           0           1\n",
              "864      3.0  28.000000    0.0     ...               0           0           1\n",
              "\n",
              "[5 rows x 9 columns]"
            ]
          },
          "metadata": {
            "tags": []
          },
          "execution_count": 127
        }
      ]
    },
    {
      "cell_type": "markdown",
      "metadata": {
        "id": "vzjp5a1PTTTm"
      },
      "source": [
        "# 3.10 데이터의 표준화"
      ]
    },
    {
      "cell_type": "code",
      "metadata": {
        "id": "BxeuMBnW5bul"
      },
      "source": [
        "cols = \"pclass,age,sibsp,fare\".split(\",\")\n",
        "sca = preprocessing.StandardScaler()"
      ],
      "execution_count": null,
      "outputs": []
    },
    {
      "cell_type": "code",
      "metadata": {
        "id": "CtiQqa1oWh3M"
      },
      "source": [
        "X_train = sca.fit_transform(X_train)\n",
        "X_train = pd.DataFrame(X_train[:, :4], columns=cols)\n",
        "X_test = sca.transform(X_test)\n",
        "X_test = pd.DataFrame(X_test[:, :4], columns=cols)"
      ],
      "execution_count": null,
      "outputs": []
    },
    {
      "cell_type": "markdown",
      "metadata": {
        "id": "ldhwJX7WStvh"
      },
      "source": [
        "# 3.11 리팩터링"
      ]
    },
    {
      "cell_type": "code",
      "metadata": {
        "id": "xtPy1SpJW0wu"
      },
      "source": [
        "def tweak_titanic(df):\n",
        "  df = df.drop(\n",
        "    columns=[\n",
        "      \"name\",\n",
        "      \"ticket\",\n",
        "      \"home.dest\",\n",
        "      \"boat\",\n",
        "      \"body\",\n",
        "      \"cabin\",\n",
        "    ]\n",
        "  ).pipe(pd.get_dummies, drop_first=True)\n",
        "  return df\n",
        "\n",
        "def get_train_test_X_y(df, y_col, size=0.3, std_cols=None):\n",
        "  y = df[y_col]\n",
        "  X = df.drop(columns=y_col)\n",
        "  X_train, X_test, y_train, y_test = train_test_split(\n",
        "    X, y, test_size=size, random_state=42\n",
        "  )\n",
        "  cols = X.columns\n",
        "  num_cols = [\n",
        "    \"pclass\",\n",
        "    \"age\",\n",
        "    \"sibsp\",\n",
        "    \"parch\",\n",
        "    \"fare\",\n",
        "  ]\n",
        "\n",
        "  fi = impute.IterativeImputer()\n",
        "\n",
        "  X_train.loc[:, num_cols] = fi.fit_transform(X_train[num_cols])\n",
        "  X_test.loc[:, num_cols] = fi.transform(X_test[num_cols])\n",
        "\n",
        "  if std_cols:\n",
        "    std = preprocessing.StandardScaler()\n",
        "    X_train.loc[:, std_cols] = std.fit_transform(X_train[std_cols])\n",
        "    X_test.loc[:, std_cols] = std.transform(X_test[std_cols])\n",
        "\n",
        "  return X_train, X_test, y_train, y_test  "
      ],
      "execution_count": null,
      "outputs": []
    },
    {
      "cell_type": "code",
      "metadata": {
        "id": "vxByPNxsXHz4"
      },
      "source": [
        "ti_df = tweak_titanic(orig_df)\n",
        "std_cols = \"pclass,age,sibsp,fare\".split(\",\")\n",
        "\n",
        "X_train, X_test, y_train, y_test = get_train_test_X_y(ti_df, \"survived\", std_cols=std_cols)"
      ],
      "execution_count": null,
      "outputs": []
    },
    {
      "cell_type": "markdown",
      "metadata": {
        "id": "kSw6KRoTXpUi"
      },
      "source": [
        "# 3.12 베이스라인 모델"
      ]
    },
    {
      "cell_type": "code",
      "metadata": {
        "colab": {
          "base_uri": "https://localhost:8080/"
        },
        "id": "wG-8n2u3Ximv",
        "outputId": "1fa0c5de-ce88-47c0-847a-1991a1aaf76b"
      },
      "source": [
        "from sklearn.dummy import DummyClassifier\n",
        "bm = DummyClassifier()\n",
        "bm.fit(X_train, y_train)\n",
        "bm.score(X_test, y_test) # 정확도"
      ],
      "execution_count": null,
      "outputs": [
        {
          "output_type": "execute_result",
          "data": {
            "text/plain": [
              "0.5623409669211196"
            ]
          },
          "metadata": {
            "tags": []
          },
          "execution_count": 132
        }
      ]
    },
    {
      "cell_type": "code",
      "metadata": {
        "colab": {
          "base_uri": "https://localhost:8080/"
        },
        "id": "6VliuN89Xtvo",
        "outputId": "bcc703a3-864d-4b6b-f45e-4b8a2864bd93"
      },
      "source": [
        "from sklearn import metrics\n",
        "metrics.precision_score(y_test, bm.predict(X_test))"
      ],
      "execution_count": null,
      "outputs": [
        {
          "output_type": "execute_result",
          "data": {
            "text/plain": [
              "0.44"
            ]
          },
          "metadata": {
            "tags": []
          },
          "execution_count": 133
        }
      ]
    },
    {
      "cell_type": "markdown",
      "metadata": {
        "id": "Wu-zacPaXxVZ"
      },
      "source": [
        "# 3.13 다양한 알고리즘"
      ]
    },
    {
      "cell_type": "code",
      "metadata": {
        "id": "plx7qRmkXwAw"
      },
      "source": [
        "X = pd.concat([X_train, X_test])\n",
        "y = pd.concat([y_train, y_test])"
      ],
      "execution_count": null,
      "outputs": []
    },
    {
      "cell_type": "code",
      "metadata": {
        "id": "x43_ph0ZX7i3"
      },
      "source": [
        "from sklearn import model_selection\n",
        "from sklearn.dummy import DummyClassifier\n",
        "from sklearn.linear_model import (\n",
        "  LogisticRegression,\n",
        ")\n",
        "\n",
        "from sklearn.tree import DecisionTreeClassifier\n",
        "from sklearn.neighbors import (\n",
        "  KNeighborsClassifier,\n",
        ")\n",
        "\n",
        "from sklearn.naive_bayes import GaussianNB\n",
        "from sklearn.svm import SVC\n",
        "from sklearn.ensemble import (\n",
        "  RandomForestClassifier,\n",
        ")\n",
        "import xgboost"
      ],
      "execution_count": null,
      "outputs": []
    },
    {
      "cell_type": "code",
      "metadata": {
        "colab": {
          "base_uri": "https://localhost:8080/"
        },
        "id": "Un_0fikfX_4R",
        "outputId": "f29db75e-821e-43f1-96bc-dc0dbee5640a"
      },
      "source": [
        "for model in [\n",
        "  DummyClassifier,\n",
        "  LogisticRegression,\n",
        "  DecisionTreeClassifier,\n",
        "  KNeighborsClassifier,\n",
        "  GaussianNB,\n",
        "  SVC,\n",
        "  RandomForestClassifier,\n",
        "  xgboost.XGBClassifier,\n",
        "]:\n",
        "  cls = model()\n",
        "  kfold = model_selection.KFold(n_splits=10, random_state=42)\n",
        "  s = model_selection.cross_val_score(cls, X, y, scoring=\"roc_auc\", cv=kfold)\n",
        "  print(f\"{model.__name__:22} AUC: {s.mean():.3f} STD: {s.std():.2f}\")"
      ],
      "execution_count": null,
      "outputs": [
        {
          "output_type": "stream",
          "text": [
            "DummyClassifier        AUC: 0.523 STD: 0.03\n",
            "LogisticRegression     AUC: 0.843 STD: 0.03\n",
            "DecisionTreeClassifier AUC: 0.762 STD: 0.03\n",
            "KNeighborsClassifier   AUC: 0.830 STD: 0.05\n",
            "GaussianNB             AUC: 0.817 STD: 0.04\n",
            "SVC                    AUC: 0.837 STD: 0.05\n",
            "RandomForestClassifier AUC: 0.845 STD: 0.03\n",
            "XGBClassifier          AUC: 0.863 STD: 0.04\n"
          ],
          "name": "stdout"
        }
      ]
    },
    {
      "cell_type": "markdown",
      "metadata": {
        "id": "1QkfGievYkX-"
      },
      "source": [
        "# 3.14 스태킹"
      ]
    },
    {
      "cell_type": "code",
      "metadata": {
        "colab": {
          "base_uri": "https://localhost:8080/"
        },
        "id": "Uv8CmCAzYSmK",
        "outputId": "b51d92b0-43da-47a5-d6b9-7e32a1aad585"
      },
      "source": [
        "from mlxtend.classifier import (\n",
        "  StackingClassifier,\n",
        ")\n",
        "\n",
        "clfs = [\n",
        "  x()\n",
        "  for x in [\n",
        "    LogisticRegression,\n",
        "    DecisionTreeClassifier,\n",
        "    KNeighborsClassifier,\n",
        "    GaussianNB,\n",
        "    SVC,\n",
        "    RandomForestClassifier,\n",
        "  ]\n",
        "]\n",
        "\n",
        "stack = StackingClassifier(\n",
        "  classifiers=clfs,\n",
        "  meta_classifier=LogisticRegression(),\n",
        ")\n",
        "\n",
        "kfold = model_selection.KFold(n_splits=10, random_state=42)\n",
        "s = model_selection.cross_val_score(stack, X, y, scoring=\"roc_auc\", cv=kfold)\n",
        "print(f\"{stack.__class__.__name__} AUC: {s.mean():.3f} STD: {s.std():.2f}\")"
      ],
      "execution_count": null,
      "outputs": [
        {
          "output_type": "stream",
          "text": [
            "StackingClassifier AUC: 0.785 STD: 0.04\n"
          ],
          "name": "stdout"
        }
      ]
    },
    {
      "cell_type": "markdown",
      "metadata": {
        "id": "umejw1NeY8NP"
      },
      "source": [
        "# 3.15 모델 만들기"
      ]
    },
    {
      "cell_type": "code",
      "metadata": {
        "colab": {
          "base_uri": "https://localhost:8080/"
        },
        "id": "wftUpJKhY4cp",
        "outputId": "6099f326-a29f-4f3b-876f-b7e601f1f30c"
      },
      "source": [
        "rf = ensemble.RandomForestClassifier(n_estimators=100, random_state=42)\n",
        "rf.fit(X_train, y_train)"
      ],
      "execution_count": null,
      "outputs": [
        {
          "output_type": "execute_result",
          "data": {
            "text/plain": [
              "RandomForestClassifier(bootstrap=True, ccp_alpha=0.0, class_weight=None,\n",
              "                       criterion='gini', max_depth=None, max_features='auto',\n",
              "                       max_leaf_nodes=None, max_samples=None,\n",
              "                       min_impurity_decrease=0.0, min_impurity_split=None,\n",
              "                       min_samples_leaf=1, min_samples_split=2,\n",
              "                       min_weight_fraction_leaf=0.0, n_estimators=100,\n",
              "                       n_jobs=None, oob_score=False, random_state=42, verbose=0,\n",
              "                       warm_start=False)"
            ]
          },
          "metadata": {
            "tags": []
          },
          "execution_count": 138
        }
      ]
    },
    {
      "cell_type": "markdown",
      "metadata": {
        "id": "GsDmosnyZCfK"
      },
      "source": [
        "# 3.16 모델의 평가"
      ]
    },
    {
      "cell_type": "code",
      "metadata": {
        "colab": {
          "base_uri": "https://localhost:8080/"
        },
        "id": "FQgU9y3dY_uC",
        "outputId": "af3ca106-be69-41a9-be63-1744397bdd16"
      },
      "source": [
        "rf.score(X_test, y_test)"
      ],
      "execution_count": null,
      "outputs": [
        {
          "output_type": "execute_result",
          "data": {
            "text/plain": [
              "0.7837150127226463"
            ]
          },
          "metadata": {
            "tags": []
          },
          "execution_count": 139
        }
      ]
    },
    {
      "cell_type": "code",
      "metadata": {
        "colab": {
          "base_uri": "https://localhost:8080/"
        },
        "id": "nni_VsDQZITL",
        "outputId": "048cefe8-6159-4795-b50a-c033c9a44bc0"
      },
      "source": [
        "metrics.precision_score(y_test, rf.predict(X_test))"
      ],
      "execution_count": null,
      "outputs": [
        {
          "output_type": "execute_result",
          "data": {
            "text/plain": [
              "0.7916666666666666"
            ]
          },
          "metadata": {
            "tags": []
          },
          "execution_count": 140
        }
      ]
    },
    {
      "cell_type": "code",
      "metadata": {
        "colab": {
          "base_uri": "https://localhost:8080/"
        },
        "id": "bAzMmbpOZJxJ",
        "outputId": "d432bce2-b045-4200-fa0c-830625281ff9"
      },
      "source": [
        "for col, val in sorted(zip(X_train.columns, \n",
        "                           rf.feature_importances_), \n",
        "                       key=lambda x: x[1],\n",
        "                       reverse=True)[:5]:\n",
        "  print(f\"{col:10}{val:10.3f}\")"
      ],
      "execution_count": null,
      "outputs": [
        {
          "output_type": "stream",
          "text": [
            "age            0.285\n",
            "fare           0.262\n",
            "sex_male       0.241\n",
            "pclass         0.089\n",
            "sibsp          0.050\n"
          ],
          "name": "stdout"
        }
      ]
    },
    {
      "cell_type": "markdown",
      "metadata": {
        "id": "PstUWVPzZGdA"
      },
      "source": [
        "# 3.17 모델의 최적화"
      ]
    },
    {
      "cell_type": "code",
      "metadata": {
        "colab": {
          "base_uri": "https://localhost:8080/"
        },
        "id": "zNbcLQrDZEWP",
        "outputId": "cda4898a-2be9-4aec-af04-0577576d2a89"
      },
      "source": [
        "rf4 = ensemble.RandomForestClassifier()\n",
        "params = {\n",
        "  \"max_features\": [0.4, \"auto\"],\n",
        "  \"n_estimators\": [15, 200],\n",
        "  \"min_samples_leaf\": [1, 0.1],\n",
        "  \"random_state\": [42],\n",
        "}\n",
        "\n",
        "cv = model_selection.GridSearchCV(rf4, params, n_jobs=-1).fit(X_train, y_train)\n",
        "print(cv.best_params_)"
      ],
      "execution_count": null,
      "outputs": [
        {
          "output_type": "stream",
          "text": [
            "{'max_features': 0.4, 'min_samples_leaf': 1, 'n_estimators': 200, 'random_state': 42}\n"
          ],
          "name": "stdout"
        }
      ]
    },
    {
      "cell_type": "code",
      "metadata": {
        "colab": {
          "base_uri": "https://localhost:8080/"
        },
        "id": "5oFZzlB-ZjyU",
        "outputId": "cf3e0d3f-55b2-43a5-e58b-8dc77e6e1d43"
      },
      "source": [
        "rf5 = ensemble.RandomForestClassifier(\n",
        "  **{\n",
        "  \"max_features\": \"auto\",\n",
        "  \"min_samples_leaf\": 0.1,\n",
        "  \"n_estimators\": 200,\n",
        "  \"random_state\": 42,\n",
        "  }\n",
        ")\n",
        "\n",
        "rf5.fit(X_train, y_train)\n",
        "rf5.score(X_test, y_test)"
      ],
      "execution_count": null,
      "outputs": [
        {
          "output_type": "execute_result",
          "data": {
            "text/plain": [
              "0.7073791348600509"
            ]
          },
          "metadata": {
            "tags": []
          },
          "execution_count": 143
        }
      ]
    },
    {
      "cell_type": "markdown",
      "metadata": {
        "id": "J14hyDw_Zsbv"
      },
      "source": [
        "# 3.18 오차 행렬"
      ]
    },
    {
      "cell_type": "code",
      "metadata": {
        "colab": {
          "base_uri": "https://localhost:8080/"
        },
        "id": "Jhy-IDvYZrFs",
        "outputId": "79b054b7-df61-47f3-d588-e92c35a87413"
      },
      "source": [
        "from sklearn.metrics import confusion_matrix\n",
        "y_pred = rf5.predict(X_test)\n",
        "confusion_matrix(y_test, y_pred)"
      ],
      "execution_count": null,
      "outputs": [
        {
          "output_type": "execute_result",
          "data": {
            "text/plain": [
              "array([[217,   7],\n",
              "       [108,  61]])"
            ]
          },
          "metadata": {
            "tags": []
          },
          "execution_count": 144
        }
      ]
    },
    {
      "cell_type": "code",
      "metadata": {
        "colab": {
          "base_uri": "https://localhost:8080/",
          "height": 430
        },
        "id": "WEWrB2JXZwQQ",
        "outputId": "81d44e21-bb96-46b1-f4ad-593f26093c04"
      },
      "source": [
        "mapping = {0: \"died\", 1: \"survived\"}\n",
        "fig, ax = plt.subplots(figsize=(6, 6))\n",
        "\n",
        "cm_viz = ConfusionMatrix(\n",
        "  rf5,\n",
        "  classes=[\"died\", \"survived\"],\n",
        "  label_encoder=mapping,\n",
        ")\n",
        "cm_viz.score(X_test, y_test)\n",
        "cm_viz.poof()\n",
        "\n",
        "plt.show()"
      ],
      "execution_count": null,
      "outputs": [
        {
          "output_type": "display_data",
          "data": {
            "image/png": "[encoded data removed]",
            "text/plain": [
              "<Figure size 432x432 with 1 Axes>"
            ]
          },
          "metadata": {
            "tags": [],
            "needs_background": "light"
          }
        }
      ]
    },
    {
      "cell_type": "markdown",
      "metadata": {
        "id": "wWc0FUhnaHR8"
      },
      "source": [
        "# 3.19 ROC 곡선"
      ]
    },
    {
      "cell_type": "code",
      "metadata": {
        "colab": {
          "base_uri": "https://localhost:8080/"
        },
        "id": "7joxNbBxZ88a",
        "outputId": "4d131c21-285d-41e3-8c44-7fee0233dcd6"
      },
      "source": [
        "y_pred = rf5.predict(X_test)\n",
        "roc_auc_score(y_test, y_pred)"
      ],
      "execution_count": null,
      "outputs": [
        {
          "output_type": "execute_result",
          "data": {
            "text/plain": [
              "0.6648483727810651"
            ]
          },
          "metadata": {
            "tags": []
          },
          "execution_count": 149
        }
      ]
    },
    {
      "cell_type": "code",
      "metadata": {
        "colab": {
          "base_uri": "https://localhost:8080/",
          "height": 403
        },
        "id": "JV5ToAP5aJfs",
        "outputId": "4def065b-7c85-4d1b-82c3-40015868d2a3"
      },
      "source": [
        "fig, ax = plt.subplots(figsize=(6, 6))\n",
        "roc_viz = ROCAUC(rf5)\n",
        "roc_viz.score(X_test, y_test)\n",
        "roc_viz.poof()\n",
        "\n",
        "plt.show()"
      ],
      "execution_count": null,
      "outputs": [
        {
          "output_type": "display_data",
          "data": {
            "image/png": "[encoded data removed]",
            "text/plain": [
              "<Figure size 432x432 with 1 Axes>"
            ]
          },
          "metadata": {
            "tags": [],
            "needs_background": "light"
          }
        }
      ]
    },
    {
      "cell_type": "markdown",
      "metadata": {
        "id": "gigbOudxaU7p"
      },
      "source": [
        "# 3.20 학습 곡선"
      ]
    },
    {
      "cell_type": "code",
      "metadata": {
        "colab": {
          "base_uri": "https://localhost:8080/",
          "height": 294
        },
        "id": "61IHWc3SaNDV",
        "outputId": "17615d57-f771-45a7-c142-d13bba40deef"
      },
      "source": [
        "import numpy as np\n",
        "fig, ax = plt.subplots(figsize=(6, 4))\n",
        "\n",
        "cv = StratifiedKFold(12)\n",
        "sizes = np.linspace(0.3, 1.0, 10)\n",
        "lc_viz = LearningCurve(\n",
        "  rf5,\n",
        "  cv=cv,\n",
        "  train_sizes=sizes,\n",
        "  scoring=\"f1_weighted\",\n",
        "  n_jobs=4,\n",
        "  ax=ax,\n",
        ")\n",
        "\n",
        "lc_viz.fit(X, y)\n",
        "lc_viz.poof()\n",
        "\n",
        "plt.show()"
      ],
      "execution_count": null,
      "outputs": [
        {
          "output_type": "display_data",
          "data": {
            "image/png": "[encoded data removed]",
            "text/plain": [
              "<Figure size 432x288 with 1 Axes>"
            ]
          },
          "metadata": {
            "tags": [],
            "needs_background": "light"
          }
        }
      ]
    },
    {
      "cell_type": "markdown",
      "metadata": {
        "id": "exj1VH8Gae4L"
      },
      "source": [
        "# 3.21 모델의 배포"
      ]
    },
    {
      "cell_type": "code",
      "metadata": {
        "colab": {
          "base_uri": "https://localhost:8080/"
        },
        "id": "hKQaLnigacXv",
        "outputId": "3b0a7494-63fe-4acf-b4a8-53d5dcf487ad"
      },
      "source": [
        "import pickle\n",
        "pic = pickle.dumps(rf5)\n",
        "rf6 = pickle.loads(pic)\n",
        "y_pred = rf6.predict(X_test)\n",
        "roc_auc_score(y_test, y_pred)"
      ],
      "execution_count": null,
      "outputs": [
        {
          "output_type": "execute_result",
          "data": {
            "text/plain": [
              "0.6648483727810651"
            ]
          },
          "metadata": {
            "tags": []
          },
          "execution_count": 153
        }
      ]
    },
    {
      "cell_type": "code",
      "metadata": {
        "id": "xLhAjY1yap15"
      },
      "source": [
        ""
      ],
      "execution_count": null,
      "outputs": []
    }
  ]
}